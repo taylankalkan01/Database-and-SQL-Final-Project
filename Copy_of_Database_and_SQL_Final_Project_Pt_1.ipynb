{
  "nbformat": 4,
  "nbformat_minor": 0,
  "metadata": {
    "colab": {
      "name": "Copy of Database and SQL: Final Project Pt 1",
      "provenance": [],
      "collapsed_sections": [],
      "include_colab_link": true
    },
    "kernelspec": {
      "name": "python3",
      "display_name": "Python 3"
    },
    "language_info": {
      "name": "python"
    }
  },
  "cells": [
    {
      "cell_type": "markdown",
      "metadata": {
        "id": "view-in-github",
        "colab_type": "text"
      },
      "source": [
        "<a href=\"https://colab.research.google.com/github/taylankalkan01/Database-and-SQL-Final-Project/blob/main/Copy_of_Database_and_SQL_Final_Project_Pt_1.ipynb\" target=\"_parent\"><img src=\"https://colab.research.google.com/assets/colab-badge.svg\" alt=\"Open In Colab\"/></a>"
      ]
    },
    {
      "cell_type": "markdown",
      "source": [
        "#Database and SQL Final Project (Part 1)\n",
        "\n",
        "##Name: Eren Kalkan\n",
        "\n",
        "**Make sure to \"save\" a copy of this file to your own account.**\n",
        "\n",
        "\n",
        "Exam 3 for the course will take the form of a “final project” where you will take a set of business rules (which you can find  below). and do the following.\n",
        "\n",
        "\n",
        "1.\tFormulate business rules\n",
        "2.\tConstruct an ERD from a set of business rules\n",
        "3.\tSpecify the relational schema\n",
        "4.\tDiscuss whether this schema meets the 1N, 2N, and 3N normal forms\n",
        "5.\tCreate the tables using SQL queries\n",
        "6.\tRun sample SQL queries that demonstrate your ability to\n",
        "  \n",
        "  a.\tCreate table with primary keys and multiple data types\n",
        "\n",
        "  b.\tJoin tables with foreign keys\n",
        "\n",
        "  c.\tInsert sample data into tables\n",
        "\n",
        "  d.\tUpdate existing data in the table\n",
        "\n",
        "  e.\tDelete data from the table\n",
        "7.\tRun sample SQL queries that demonstrate your ability to do the following:\n",
        "\n",
        "  a.\tSimple single table queries\n",
        "\n",
        "  b.\tSingle-table queries with WHERE and LIKE\n",
        "\n",
        "  c.\tSingle-table queries with aggregate functions\n",
        "\n",
        "  d.\tSingle table queries with GROUP BY\n",
        "\n",
        "  e.\tSingle-table queries with HAVING\n",
        "\n",
        "  f.\tSubqueries\n",
        "\n",
        "  g.\tSimple multi-table queries with JOIN\n",
        "\n",
        "  h.\tMore complex multi-table queries\n",
        "\n",
        "  i.\tThe creation of table views\n",
        "  \n",
        "  j.\tThe creation of indexes\n",
        "8.\tDiscuss your process of database design and implementation using the Software Development LifeCycle Model \n",
        "9.\tDo something unique! You could do ONE of the following, or something else:\n",
        "\n",
        "  a.\tBuild some indexes and analyze query performance\n",
        "\n",
        "  b.\tFigure out how to add a JSON column, and insert data\n",
        "\n",
        "  c.\tWrite a PL/SQL functions or trigger and show how to use it\n",
        "\n",
        "  d.\tExpand the data model to include subtypes and supertypes\n",
        "\n",
        "  e.\tLet your creativity shine!\n",
        "10.\tSave this project as a portfolio-quality work to Github, which you can then share with me (and with future employers, if you would like).\n",
        "The overall project is worth 100 points. We’ll be working on pieces of this for each of our “labs” from now until the end of the semester.\n",
        "\n",
        "\n",
        "**Other Guidelines** Here are the guidelines for working on the project:\n",
        "\n",
        "1. Each week, you should share your project with me to show me how you're doing. If you complete the required steps for that week, you'll receive full credit for the lab.\n",
        "2. You are welcome to discuss your project with either me or your peers. However, your final work (for example, the ER diagram,  SQL code, etc.) should represent your *own* response. \n",
        "3. Each \"step\" in the lab will be worth ten points total (for a total of 100 points)."
      ],
      "metadata": {
        "id": "emc3Vlnhi8NH"
      }
    },
    {
      "cell_type": "markdown",
      "source": [
        "#Load Postgres (Run This Cell)"
      ],
      "metadata": {
        "id": "G_l6aadBOkDC"
      }
    },
    {
      "cell_type": "code",
      "execution_count": null,
      "metadata": {
        "id": "4M1wPXuYixoq"
      },
      "outputs": [],
      "source": [
        "# Some UNIX and Pyhton utilites we need to install for the lab.\n",
        "!pip install wget --quiet\n",
        "!pip install sqlalchemy --quiet\n",
        "!pip install ipython-sql --quiet\n",
        "!pip install pgspecial --quiet\n",
        "\n",
        "# Install postgresql server\n",
        "!sudo apt-get -y -qq update\n",
        "!sudo apt-get -y -qq install postgresql\n",
        "!sudo service postgresql start\n",
        "\n",
        "# Setup a password `postgres` for username `postgres`\n",
        "!sudo -u postgres psql -U postgres -c \"ALTER USER postgres PASSWORD 'postgres';\"\n",
        "\n",
        "# Setup a postgres database with name `my_data` to be used\n",
        "!sudo -u postgres psql -U postgres -c 'DROP DATABASE IF EXISTS my_data;'\n",
        "!sudo -u postgres psql -U postgres -c 'CREATE DATABASE my_data;'\n",
        "\n",
        "# Postgres variables\n",
        "%env DB_NAME=my_data\n",
        "%env DB_HOST=localhost\n",
        "%env DB_PORT=5432\n",
        "%env DB_USER=postgres\n",
        "%env DB_PASS=postgres\n",
        "\n",
        "# Now let's download the file we'll be using for this lab\n",
        "!wget -N 'https://raw.githubusercontent.com/brendanpshea/database_class/main/movie_dump.sql' -q\n",
        "\n",
        "# Load our file and connect to the database\n",
        "!PGPASSWORD=$DB_PASS psql -q -h $DB_HOST -p $DB_PORT -U $DB_USER -d $DB_NAME -f movie_dump.sql\n",
        "\n",
        "# Finally, let's make a connnection with the databse\n",
        "%load_ext sql\n",
        "%sql postgresql://$DB_USER:$DB_PASS@$DB_HOST/$DB_NAME"
      ]
    },
    {
      "cell_type": "markdown",
      "source": [
        "#Part 1: Scenario Analysis and Business Rule Formulation\n",
        "For the project, you’ll be creating a mock database for “Monster University,” a school that takes young monsters (dragons, werewolves, cute “ET” style aliens, vampires, ogres, talking apes, robot assassins, and basically anything else you want) and teaches them to be upstanding members of the monster community. The professors are ALSO monsters. Here are the business rules you’ll need to get started:\n",
        "\n",
        "1.\tYour main goal is to represent the Monsters, Classes, and Locations (buildings/rooms) at the school.\n",
        "2.\tMonsters can either teach classes, take classes, or both.\n",
        "3.\tFor all Monsters we need to keep track of their \n",
        "\n",
        "  a.\tname\n",
        "\n",
        "  b.\tspecies (what kind of monster are they?)\n",
        "\n",
        "  c.\tdate of birth\n",
        "\n",
        "  d.\ttheir diet, if known (herbivore, carnivore, omnivore, “brains”, “electricity”, etc.)\n",
        "\n",
        "  e. their GPA (between 0 and 4.0)\n",
        "\n",
        "  f. the number of credits completed.\n",
        "\n",
        "4.\tFor classes, we’d like to track the following:\n",
        "\n",
        "  a.\tThe title of the class\n",
        "\n",
        "  b.\tThe location in which the class is held\n",
        "\n",
        "  c.\tThe duration of the class in minutes (between 30 and 180)\n",
        "\n",
        "  d.  The days on which the class meets (for example \"MWF\" or \"TH\").\n",
        "\n",
        "  e.  The start time of the class \n",
        "  \n",
        "  f.  The instructor of the class (who is a Monster)\n",
        "\n",
        "  \n",
        "5. For locations we want to record:\n",
        "\n",
        "  a. A two-character building code (e.g., \"MH\" for Memorial Hall).\n",
        "\n",
        "  b. The room number between 1 and 2000.\n",
        "\n",
        "  c. The max capacity between 10 and 300.\n",
        "\n",
        "6. Some Monsters are Alumni, who have graduated from the school. For alumni we also want to record:\n",
        "\n",
        "  a. the year they graduated, and\n",
        "  \n",
        "  b. their degree (computer science, business, English, etc.).\n",
        "\n",
        "7.\tFormulate THREE additional business rules of your choice. Remember, you’ll eventually need to implement these! At least ONE of these rules should involve a new entity, relationship, and/or constraint (as opposed to simply a new attribute). \n"
      ],
      "metadata": {
        "id": "JkRsM0CVPCyv"
      }
    },
    {
      "cell_type": "markdown",
      "source": [
        "##Your New Business Rules Here:\n",
        "1. university cafeteria:\n",
        "\n",
        "  a.species_emp (what kind of monster are working?)\n",
        "\n",
        "  b.products\n",
        "  \n",
        "  c.price\n",
        "\n",
        "2. For classes, I want to record what is the requirements?\n",
        "\n",
        "3. For Monsters, I want to record What classes are they taking this semester?\n"
      ],
      "metadata": {
        "id": "NHPX9pNwPTKh"
      }
    },
    {
      "cell_type": "markdown",
      "source": [
        "#Part 2: Conceptual Modeling using Entity-Relationship Diagramming\n",
        "In this step, I'd like to create an ERD for the business rules above using [Diagrams.net](https://diagrams.net). You should include all entities, attributes, relationships, and cardinalilities. After you have completed this diagram, you should do the following:\n",
        "\n",
        "1. Export it as \"SVG\" file in diagrams.net, and save this to your computer.\n",
        "2. Edit this cell, and select the \"Insert Image\" button.\n",
        "3. Select the SVG file you download.\n",
        "4. NOTE: SVG files will work much better than larger image files (which may cause problems if you try to insert them).\n",
        "\n",
        "INSERT SVG FILE HERE.\n",
        "![Untitled Diagram.drawio-2.svg](data:image/svg+xml;base64,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)"
      ],
      "metadata": {
        "id": "cV_EtRLePpnY"
      }
    },
    {
      "cell_type": "markdown",
      "source": [
        "#Part 3: Logical Modeling\n",
        "In this part, I'd like you to map the E-R model you've created to a relational model. This involves creating a relational scheme like the following:\n",
        "\n",
        "\n",
        "```\n",
        "table_name_1(attribute1 (PK), attribute2, attribute3)\n",
        "table_name_2(attribute1 (PK), attribute2, attribute3)\n",
        "\n",
        "```\n",
        "You should indicate any **primary keys** by using (PK) and any foreign keys with (FK). For primary keys, you'll need to think about whether you can/should use attributes included in the ER diagram, or whether you might want to to create new attributes to serve as keys.\n",
        "\n",
        "I recommend creating entities in this order:\n",
        "1. One table for each \"strong\" entity in the E-R diagram. Decide on a primary key.\n",
        "2. Tables for subtypes, if needed.\n",
        "3. One table for each \"weak\" entity (besides subtypes) in the E-R diagram. Decide on appropriate primary and foreign keys.\n",
        "4. Tables needed to model M:N relationships present in the E-R diagram.\n",
        "\n",
        "**PUT YOUR ANSWER BELOW.**\n",
        "\n",
        "My answer...\n",
        "\n",
        "Monsters(monster_id (PK), name, species,date_of_birth, diet,GPA,number_of_credits_completed,this_semester_classes )\n",
        "\n",
        "Monsters(class_id (PK), title, location,duration_of_the_class, class_days,start_time,instructor,requirements )\n",
        "\n",
        "alumni(alumni_id (PK), graduated_year, degree)\n",
        "\n",
        "\n",
        "cafeteria(cafeteria_id (PK), species_emp, products,price)\n",
        "\n",
        "\n",
        "locations(location_id (PK), building_code, room_number,max_capacity)"
      ],
      "metadata": {
        "id": "kFIH3wVIQypo"
      }
    },
    {
      "cell_type": "markdown",
      "source": [
        "#Part 4: Normalization\n",
        "Are your relations normalized? Please provide a 2-3 sentence explanation of why/how they meet the following normal forms. Or, if they don't, describe what needs to be done to change them.\n",
        "\n",
        "1. **First Normal Form.** \n",
        "\n",
        "my tables already meets the requirements\n",
        "\n",
        "\n",
        "2. **Second Normal Form.**\n",
        "\n",
        "there is still redundant data\n",
        "\n",
        "\n",
        "3. **Third Normal Form.** \n",
        "\n",
        "I don't think it meets the requirements but will be developed through the process.\n",
        "\n",
        "\n",
        "**Revised relational scheme (if needed):**\n",
        "(Your answer here).\n",
        "\n"
      ],
      "metadata": {
        "id": "j9QCguK0SbxL"
      }
    },
    {
      "cell_type": "markdown",
      "source": [
        "#Part 5\n",
        "That's all for this week! Next week, we'll be moving onto the creation of table and insertion of data."
      ],
      "metadata": {
        "id": "S1lnI1iGEQpw"
      }
    },
    {
      "cell_type": "code",
      "source": [
        ""
      ],
      "metadata": {
        "id": "rQ9CiBEREYCC"
      },
      "execution_count": null,
      "outputs": []
    }
  ]
}